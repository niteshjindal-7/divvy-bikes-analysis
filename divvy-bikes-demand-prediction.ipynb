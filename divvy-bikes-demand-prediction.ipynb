{
 "cells": [
  {
   "cell_type": "code",
   "execution_count": null,
   "metadata": {},
   "outputs": [],
   "source": []
  },
  {
   "cell_type": "markdown",
   "metadata": {},
   "source": [
    "# Import Modules"
   ]
  },
  {
   "cell_type": "code",
   "execution_count": 2,
   "metadata": {},
   "outputs": [
    {
     "name": "stdout",
     "output_type": "stream",
     "text": [
      "22/07/28 15:02:49 WARN Utils: Your hostname, nitesh-Predator-PH315-54 resolves to a loopback address: 127.0.1.1; using 192.168.1.7 instead (on interface wlp0s20f3)\n",
      "22/07/28 15:02:49 WARN Utils: Set SPARK_LOCAL_IP if you need to bind to another address\n"
     ]
    },
    {
     "name": "stderr",
     "output_type": "stream",
     "text": [
      "Setting default log level to \"WARN\".\n",
      "To adjust logging level use sc.setLogLevel(newLevel). For SparkR, use setLogLevel(newLevel).\n"
     ]
    },
    {
     "name": "stdout",
     "output_type": "stream",
     "text": [
      "22/07/28 15:02:49 WARN NativeCodeLoader: Unable to load native-hadoop library for your platform... using builtin-java classes where applicable\n",
      "22/07/28 15:02:50 WARN Utils: Service 'SparkUI' could not bind on port 4040. Attempting port 4041.\n"
     ]
    },
    {
     "name": "stderr",
     "output_type": "stream",
     "text": [
      "/home/nitesh/env/dev37/python37/lib/python3.7/site-packages/pyspark/sql/context.py:114: FutureWarning: Deprecated in 3.0.0. Use SparkSession.builder.getOrCreate() instead.\n",
      "  FutureWarning,\n"
     ]
    }
   ],
   "source": [
    "# Include Required Libraries\n",
    "import pandas as pd\n",
    "import numpy  as np\n",
    "import warnings\n",
    "# import findspark\n",
    "# findspark.init()\n",
    "import pyspark\n",
    "from pyspark import SparkContext\n",
    "from pyspark.sql import SQLContext\n",
    "from pyspark.sql import SparkSession\n",
    "from pyspark.streaming import StreamingContext\n",
    "from pyspark.sql.functions import desc\n",
    "from pyspark.sql import functions as F\n",
    "from pyspark.mllib.stat import Statistics\n",
    "from pyspark.ml.feature import VectorAssembler #feature transformer that merges multiple columns into a vector column\n",
    "from pyspark.ml.regression import LinearRegression\n",
    "from pyspark.ml import Pipeline\n",
    "#from pyspark.ml.feature import StringIndexer\n",
    "from pyspark.sql.functions import udf\n",
    "from pyspark.sql.types import StringType\n",
    "from pyspark.sql.types import *\n",
    "#from pyspark.ml.evaluation import BinaryClassificationEvaluator #evaluate accuracy \n",
    "#from pyspark.context import SparkContext\n",
    "#from pyspark.sql.session import SparkSession\n",
    "sc= SparkContext(appName=\"my_app1\", master= \"local[1]\") \n",
    "sqlContext = SQLContext(sc) \n",
    "import functools\n",
    "from functools import reduce #inbuilt function\n",
    "import six.moves \n",
    "from six.moves import xrange  #inbuilt function\n",
    "import seaborn as sns  #seaborn-0.11.2\n",
    "import matplotlib\n",
    "import matplotlib.pyplot as plt\n",
    "matplotlib.style.use('ggplot')"
   ]
  },
  {
   "cell_type": "code",
   "execution_count": null,
   "metadata": {},
   "outputs": [],
   "source": []
  },
  {
   "cell_type": "code",
   "execution_count": null,
   "metadata": {},
   "outputs": [],
   "source": []
  },
  {
   "cell_type": "code",
   "execution_count": null,
   "metadata": {},
   "outputs": [],
   "source": []
  },
  {
   "cell_type": "markdown",
   "metadata": {},
   "source": [
    "# Download chicago divvy bicycle sharing data from google drive path:"
   ]
  },
  {
   "cell_type": "code",
   "execution_count": null,
   "metadata": {},
   "outputs": [],
   "source": [
    "#!pip install --trusted-host pypi.org --trusted-host pypi.python.org --trusted-host files.pythonhosted.org google-api-python-client==2.22.0\n",
    "#!pip install --trusted-host pypi.org --trusted-host pypi.python.org --trusted-host files.pythonhosted.org google-auth google-auth-oauthlib google-auth-httplib2%\n",
    "\n",
    "try:\n",
    "    %pip install --upgrade --no-cache-dir gdown\n",
    "    %pip install --trusted-host pypi.org --trusted-host pypi.python.org --trusted-host files.pythonhosted.org gdown==4.4.0\n",
    "    import gdown\n",
    "    warnings.filterwarnings(\"ignore\")\n",
    "    url = 'https://drive.google.com/uc?id=1SJeijqqwvz9OfddACxQbspptaGr51qBf'  #path to data.csv and save output as chicago-divvy-bicycle-sharing-data.csv\n",
    "\n",
    "    output = 'chicago-divvy-bicycle-sharing-data.csv'\n",
    "    gdown.download(url, output, quiet=False, verify=False)\n",
    "\n",
    "except:\n",
    "    cmd= \"curl -L -s -o chicago-divvy-bicycle-sharing-data.csv 'https://drive.google.com/uc?id=1SJeijqqwvz9OfddACxQbspptaGr51qBf&confirm=t'\"  #path to data.csv and save output as chicago-divvy-bicycle-sharing-data.csv\n",
    "    run(cmd, shell=True )"
   ]
  },
  {
   "cell_type": "markdown",
   "metadata": {},
   "source": [
    "# Load the file in SQL Context"
   ]
  },
  {
   "cell_type": "code",
   "execution_count": null,
   "metadata": {},
   "outputs": [],
   "source": [
    "\n",
    "df = sqlContext.read.load(\"C:\\\\...\\\\chicago-divvy-bicycle-sharing-data\\\\data.csv\",format='com.databricks.spark.csv',header='true',inferSchema='true')"
   ]
  },
  {
   "cell_type": "code",
   "execution_count": null,
   "metadata": {},
   "outputs": [],
   "source": []
  },
  {
   "cell_type": "code",
   "execution_count": null,
   "metadata": {},
   "outputs": [],
   "source": []
  }
 ],
 "metadata": {
  "kernelspec": {
   "display_name": "Python 3.7.13 ('python37')",
   "language": "python",
   "name": "python3"
  },
  "language_info": {
   "codemirror_mode": {
    "name": "ipython",
    "version": 3
   },
   "file_extension": ".py",
   "mimetype": "text/x-python",
   "name": "python",
   "nbconvert_exporter": "python",
   "pygments_lexer": "ipython3",
   "version": "3.7.13"
  },
  "orig_nbformat": 4,
  "vscode": {
   "interpreter": {
    "hash": "10dce8051da327ee61b88c8fe17efd291e825329f48596c5e04c84b84b26c2cf"
   }
  }
 },
 "nbformat": 4,
 "nbformat_minor": 2
}
