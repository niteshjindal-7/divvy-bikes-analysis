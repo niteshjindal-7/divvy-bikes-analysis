{
 "cells": [
  {
   "cell_type": "markdown",
   "metadata": {},
   "source": [
    "# This notebook demonstrates the analysis carried on the **divvy bicycles** data set:\n",
    "\n",
    "Dataset:\n",
    "<br>\n",
    "__[My Google Drive](https://drive.google.com/drive/folders/17onvjg5MslNtkLzfv--sIb4yAa4cNe3t?usp=sharing)__"
   ]
  },
  {
   "cell_type": "code",
   "execution_count": 2,
   "metadata": {},
   "outputs": [],
   "source": [
    "from pyspark import SparkContext\n",
    "from pyspark.streaming import StreamingContext\n",
    "from pyspark.sql import SQLContext\n",
    "from pyspark.sql.functions import desc\n",
    "import pandas as pd \n",
    "import matplotlib\n",
    "import matplotlib.pyplot as plt\n"
   ]
  },
  {
   "cell_type": "code",
   "execution_count": null,
   "metadata": {},
   "outputs": [],
   "source": [
    "# matplotlib.style.use('ggplot')\n",
    "# sc= SparkContext(appName=\"my_app3\", master= \"local[1]\") \n",
    "# sqlContext = SQLContext(sc) "
   ]
  }
 ],
 "metadata": {
  "kernelspec": {
   "display_name": "Python 3.7.13 ('python37')",
   "language": "python",
   "name": "python3"
  },
  "language_info": {
   "codemirror_mode": {
    "name": "ipython",
    "version": 3
   },
   "file_extension": ".py",
   "mimetype": "text/x-python",
   "name": "python",
   "nbconvert_exporter": "python",
   "pygments_lexer": "ipython3",
   "version": "3.7.13"
  },
  "orig_nbformat": 4,
  "vscode": {
   "interpreter": {
    "hash": "10dce8051da327ee61b88c8fe17efd291e825329f48596c5e04c84b84b26c2cf"
   }
  }
 },
 "nbformat": 4,
 "nbformat_minor": 2
}
